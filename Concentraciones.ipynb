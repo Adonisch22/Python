{
  "nbformat": 4,
  "nbformat_minor": 0,
  "metadata": {
    "colab": {
      "provenance": []
    },
    "kernelspec": {
      "name": "python3",
      "display_name": "Python 3"
    },
    "language_info": {
      "name": "python"
    }
  },
  "cells": [
    {
      "cell_type": "markdown",
      "source": [
        "# Concentraciones\n",
        "\n"
      ],
      "metadata": {
        "id": "C8oapx6Fj8h3"
      }
    },
    {
      "cell_type": "code",
      "source": [
        "#Ingreso de librerias a usar\n",
        "from numpy import *\n",
        "import pandas as pd"
      ],
      "metadata": {
        "id": "IsdDS95SqRBp"
      },
      "execution_count": null,
      "outputs": []
    },
    {
      "cell_type": "code",
      "source": [
        "tabla = pd.DataFrame(index=range(7), columns=range(3))\n",
        "tabla.iloc[0,0] = \"sustancia\"\n",
        "tabla.iloc[0,1] = \"Fluido\"\n",
        "tabla.iloc[0,2] = \"ppm\"\n",
        "\n",
        "tabla.iloc[1,0] = \"Floculante\"\n",
        "tabla.iloc[1,1] = \"Agua\"\n",
        "tabla.iloc[1,2] = \"50\"\n",
        "\n",
        "tabla.iloc[2,0] = \"Biocida\"\n",
        "tabla.iloc[2,1] = \"Agua\"\n",
        "tabla.iloc[2,2] = \"500-1000\"\n",
        "\n",
        "tabla.iloc[3,0] = \"Antiescal\"\n",
        "tabla.iloc[3,1] = \"Agua\"\n",
        "tabla.iloc[3,2] = \"30\"\n",
        "\n",
        "tabla.iloc[4,0] = \"Clarificador\"\n",
        "tabla.iloc[4,1] = \"Agua\"\n",
        "tabla.iloc[4,2] = \"50\"\n",
        "\n",
        "tabla.iloc[5,0] = \"Secuestrante de oxigeno\"\n",
        "tabla.iloc[5,1] = \"Fluido\"\n",
        "tabla.iloc[5,2] = \"10\"\n",
        "\n",
        "tabla.iloc[6,0] = \"Desmulsificante\"\n",
        "tabla.iloc[6,1] = \"Oil\"\n",
        "tabla.iloc[6,2] = \"35\"\n",
        "\n",
        "print(tabla)"
      ],
      "metadata": {
        "colab": {
          "base_uri": "https://localhost:8080/"
        },
        "id": "hXdNxPAbsOjh",
        "outputId": "299de304-2249-4292-ae81-06b0bfde82d7"
      },
      "execution_count": null,
      "outputs": [
        {
          "output_type": "stream",
          "name": "stdout",
          "text": [
            "                         0       1         2\n",
            "0                sustancia  Fluido       ppm\n",
            "1               Floculante    Agua        50\n",
            "2                  Biocida    Agua  500-1000\n",
            "3                Antiescal    Agua        30\n",
            "4             Clarificador    Agua        50\n",
            "5  Secuestrante de oxigeno  Fluido        10\n",
            "6          Desmulsificante     Oil        35\n"
          ]
        }
      ]
    },
    {
      "cell_type": "code",
      "source": [
        "#Ingreso de los datos\n",
        "BFPD=float(input(\"Ingrese el caudal del fluido: \"))\n",
        "agua=float(input(\"Ingrese el porcentaje de agua(fracción): \"))\n",
        "d=float(input(\"Ingrese el diametro del flow line: \"))\n",
        "L=float(input(\"Ingrese la longitud del flow line: \"))\n",
        "ppm=float(input(\"Ingrese las partes por millon: \"))\n",
        "B=float(input(\"Ingrese el tiempo del bache(hr): \"))\n",
        "s=float(input(\"Seleccione una sustancia en orden de la tabla(1-6): \"))"
      ],
      "metadata": {
        "colab": {
          "base_uri": "https://localhost:8080/"
        },
        "id": "zYKrayPNj7qg",
        "outputId": "346e4a68-2ac3-4282-a1d5-deb2b837bfcc"
      },
      "execution_count": null,
      "outputs": [
        {
          "name": "stdout",
          "output_type": "stream",
          "text": [
            "Ingrese el caudal del fluido: 40000\n",
            "Ingrese el porcentaje de agua(fracción): 0.45\n",
            "Ingrese el diametro del flow line: 1\n",
            "Ingrese la longitud del flow line: 32808.4\n",
            "Ingrese las partes por millon: 500\n",
            "Ingrese el tiempo del bache(hr): 2\n",
            "Seleccione una sustancia en orden de la tabla(0-6): 2\n"
          ]
        }
      ]
    },
    {
      "cell_type": "code",
      "execution_count": null,
      "metadata": {
        "id": "mlN9IZ68j59W"
      },
      "outputs": [],
      "source": [
        "#Calculos\n",
        "BWPD=BFPD*agua\n",
        "BOPD=BFPD-BWPD\n"
      ]
    },
    {
      "cell_type": "code",
      "source": [
        "#solución\n",
        "if s==1:\n",
        "  qw=(BWPD*B)/24\n",
        "  gal=qw*42\n",
        "  res=(gal*ppm)/(1*10**6-ppm)\n",
        "  print(\"Se debe usar \",res,\" gal de floculante al enviar al PIG\")\n",
        "if s==2:\n",
        "    qw=(BWPD*B)/24\n",
        "    gal=qw*42\n",
        "    res=(gal*ppm)/(1*10**6-ppm)\n",
        "    print(\"Se debe usar \",res,\" gal de biocida al enviar al PIG\")\n",
        "if s==3:\n",
        "    qw=(BWPD*B)/24\n",
        "    gal=qw*42\n",
        "    res=(gal*ppm)/(1*10**6-ppm)\n",
        "    print(\"Se debe usar \",res,\" gal de antiescal al enviar al PIG\")\n",
        "if s==4:\n",
        "    qw=(BWPD*B)/24\n",
        "    gal=qw*42\n",
        "    res=(gal*ppm)/(1*10**6-ppm)\n",
        "    print(\"Se debe usar \",res,\" gal de clarificador al enviar al PIG\")\n",
        "if s==5:\n",
        "    qw=(BFPD*B)/24\n",
        "    gal=qw*42\n",
        "    res=(gal*ppm)/(1*10**6-ppm)\n",
        "    print(\"Se debe usar \",res,\" gal de secuestrante de oxigeno al enviar al PIG\")\n",
        "if s==6:\n",
        "    qw=(BOPD*B)/24\n",
        "    gal=qw*42\n",
        "    res=(gal*ppm)/(1*10**6-ppm)\n",
        "    print(\"Se debe usar \",res,\" gal de desmulsificante al enviar al PIG\")\n",
        "\n",
        "\n",
        "Q=BFPD*5.615/3600\n",
        "A=pi*d**2/4\n",
        "v=Q/A\n",
        "print(\"Llega con \",v,\" ft^3/s al PIG\")\n",
        "t=A*L/Q\n",
        "print(\"Llega con \",t,\" s al PIG\")\n"
      ],
      "metadata": {
        "colab": {
          "base_uri": "https://localhost:8080/"
        },
        "id": "WaovPleXoLmL",
        "outputId": "fd97237b-3c5d-4121-f8a9-28a5da94481a"
      },
      "execution_count": null,
      "outputs": [
        {
          "output_type": "stream",
          "name": "stdout",
          "text": [
            "Se debe usar  31.51575787893947  gal de biocida al enviar al PIG\n",
            "Llega con  79.43600048542154  ft^3/s al PIG\n",
            "Llega con  413.01676569203846  s al PIG\n"
          ]
        }
      ]
    }
  ]
}